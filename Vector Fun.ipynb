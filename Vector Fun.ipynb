{
 "cells": [
  {
   "cell_type": "markdown",
   "metadata": {},
   "source": [
    "### Vector fun"
   ]
  },
  {
   "cell_type": "markdown",
   "metadata": {},
   "source": [
    "s) Using Python and numpy, implement a mag(vec) function to return the\n",
    "magnitude (length) of a 2-dimensional vector (as a numpy array)."
   ]
  },
  {
   "cell_type": "code",
   "execution_count": 11,
   "metadata": {},
   "outputs": [
    {
     "name": "stdout",
     "output_type": "stream",
     "text": [
      "Magnitude of the Vector: 16.1245154965971\n"
     ]
    }
   ],
   "source": [
    "import numpy as np\n",
    " \n",
    "def mag(vector):\n",
    "    return np.linalg.norm(vector)\n",
    "\n",
    "v = np.array([14, 8]) \n",
    "\n",
    "print('Magnitude of the Vector:', mag(v))\n"
   ]
  },
  {
   "cell_type": "markdown",
   "metadata": {},
   "source": [
    "t) Likewise, implement a unit(vec) function to return the unit vector of a\n",
    "2-dimensional vector (as a numpy array)."
   ]
  },
  {
   "cell_type": "code",
   "execution_count": 13,
   "metadata": {},
   "outputs": [
    {
     "name": "stdout",
     "output_type": "stream",
     "text": [
      "[0.86824314 0.49613894]\n"
     ]
    }
   ],
   "source": [
    "def unit(vector):\n",
    "    return vector / mag(vector)\n",
    "\n",
    "print(unit(v))"
   ]
  },
  {
   "cell_type": "markdown",
   "metadata": {},
   "source": [
    "u) Rotating a 2D vector 90 degrees counter clockwise is done by swapping x\n",
    "and y, and negating the new x. Implement rot90(vec). It must return a\n",
    "new numpy array, that is a 90 degree rotation of the vec input. "
   ]
  },
  {
   "cell_type": "code",
   "execution_count": 30,
   "metadata": {},
   "outputs": [
    {
     "name": "stdout",
     "output_type": "stream",
     "text": [
      "rotation:  [-8 14]\n"
     ]
    }
   ],
   "source": [
    "def rot90(vector):\n",
    "    reverse_vector = np.flipud(vector)\n",
    "    reverse_vector[0] = reverse_vector[0] * (-1)\n",
    "    return reverse_vector\n",
    "    \n",
    "print('rotation: ', rot90(v))\n",
    "\n"
   ]
  },
  {
   "cell_type": "markdown",
   "metadata": {},
   "source": [
    "v) 2 · ->a"
   ]
  },
  {
   "cell_type": "code",
   "execution_count": 33,
   "metadata": {},
   "outputs": [
    {
     "name": "stdout",
     "output_type": "stream",
     "text": [
      "vector a scaled by 2:  [6 4]\n"
     ]
    }
   ],
   "source": [
    "vector_a = np.array([3,2])\n",
    "vector_b = np.array([8,7])\n",
    "vector_c = np.array([1,5])\n",
    "\n",
    "print('vector a scaled by 2: ', 2*vector_a)"
   ]
  },
  {
   "cell_type": "markdown",
   "metadata": {},
   "source": [
    "w) ->a + ->b − ->c"
   ]
  },
  {
   "cell_type": "code",
   "execution_count": 35,
   "metadata": {},
   "outputs": [
    {
     "name": "stdout",
     "output_type": "stream",
     "text": [
      "[10  4]\n"
     ]
    }
   ],
   "source": [
    "print(vector_a + vector_b - vector_c)"
   ]
  },
  {
   "cell_type": "markdown",
   "metadata": {},
   "source": [
    "x) Use help(numpy) (or online documentation) to find out how to find the\n",
    "dot product of two vectors. (hint: in the help prompt, you can search by\n",
    "pressing /, then typing text, then enter, then n or shift-n to navigate\n",
    "the search results!)"
   ]
  },
  {
   "cell_type": "code",
   "execution_count": 43,
   "metadata": {},
   "outputs": [
    {
     "data": {
      "text/plain": [
       "26"
      ]
     },
     "execution_count": 43,
     "metadata": {},
     "output_type": "execute_result"
    }
   ],
   "source": [
    "vector_d = np.array([2,3])\n",
    "vector_e = np.array([4,6])\n",
    "\n",
    "np.dot(vector_d, vector_e)"
   ]
  },
  {
   "cell_type": "markdown",
   "metadata": {},
   "source": [
    "y) Using numpy, find ->a · ->a. Compare with mag(a)*mag(a)."
   ]
  },
  {
   "cell_type": "code",
   "execution_count": 47,
   "metadata": {},
   "outputs": [
    {
     "name": "stdout",
     "output_type": "stream",
     "text": [
      "vector: [9 4]\n",
      "magnitude:  12.999999999999998\n"
     ]
    }
   ],
   "source": [
    "print('vector:', np.multiply(vector_a, vector_a))\n",
    "print('magnitude: ', mag(vector_a)*mag(vector_a))"
   ]
  },
  {
   "cell_type": "markdown",
   "metadata": {},
   "source": [
    "z) Using numpy, find ->a · ->b"
   ]
  },
  {
   "cell_type": "code",
   "execution_count": 46,
   "metadata": {},
   "outputs": [
    {
     "name": "stdout",
     "output_type": "stream",
     "text": [
      "vector:  [24 14]\n"
     ]
    }
   ],
   "source": [
    "print('vector: ', np.multiply(vector_a, vector_b))"
   ]
  },
  {
   "cell_type": "markdown",
   "metadata": {},
   "source": [
    "æ) Using your rot90 function, find the dot product of a and its rotation.\n",
    "(That is, given ->ar = rot90(a), find ->a · ->ar)"
   ]
  },
  {
   "cell_type": "code",
   "execution_count": 54,
   "metadata": {},
   "outputs": [
    {
     "name": "stdout",
     "output_type": "stream",
     "text": [
      "dot product of a and a rotated:  12\n",
      "multiply:  [6 6]\n"
     ]
    }
   ],
   "source": [
    "ar = rot90(vector_a)\n",
    "\n",
    "print('dot product of a and a rotated: ', np.dot(vector_a, ar))\n",
    "print('multiply: ', np.multiply(vector_a, ar))"
   ]
  }
 ],
 "metadata": {
  "kernelspec": {
   "display_name": "Python 3",
   "language": "python",
   "name": "python3"
  },
  "language_info": {
   "codemirror_mode": {
    "name": "ipython",
    "version": 3
   },
   "file_extension": ".py",
   "mimetype": "text/x-python",
   "name": "python",
   "nbconvert_exporter": "python",
   "pygments_lexer": "ipython3",
   "version": "3.7.4"
  }
 },
 "nbformat": 4,
 "nbformat_minor": 2
}
